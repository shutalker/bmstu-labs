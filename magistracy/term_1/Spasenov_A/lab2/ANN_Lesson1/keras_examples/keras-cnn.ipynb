{
 "cells": [
  {
   "cell_type": "code",
   "execution_count": 1,
   "metadata": {},
   "outputs": [
    {
     "name": "stderr",
     "output_type": "stream",
     "text": [
      "Using TensorFlow backend.\n"
     ]
    }
   ],
   "source": [
    "import keras\n",
    "from keras.datasets import mnist\n",
    "from keras.models import Sequential\n",
    "from keras.layers import Dense, Dropout, Flatten\n",
    "from keras.layers import Conv2D, MaxPooling2D\n",
    "from keras import backend as K"
   ]
  },
  {
   "cell_type": "code",
   "execution_count": 2,
   "metadata": {},
   "outputs": [],
   "source": [
    "batch_size = 128\n",
    "num_classes = 2\n",
    "epochs = 12\n",
    "\n",
    "# input image dimensions\n",
    "img_rows, img_cols = 28, 28\n",
    "\n",
    "# the data, shuffled and split between train and test sets\n",
    "(x_train, y_train), (x_test, y_test) = mnist.load_data()"
   ]
  },
  {
   "cell_type": "code",
   "execution_count": 3,
   "metadata": {},
   "outputs": [],
   "source": [
    "if K.image_data_format() == 'channels_first':\n",
    "    x_train = x_train.reshape(x_train.shape[0], 1, img_rows, img_cols)\n",
    "    x_test = x_test.reshape(x_test.shape[0], 1, img_rows, img_cols)\n",
    "    input_shape = (1, img_rows, img_cols)\n",
    "else:\n",
    "    x_train = x_train.reshape(x_train.shape[0], img_rows, img_cols, 1)\n",
    "    x_test = x_test.reshape(x_test.shape[0], img_rows, img_cols, 1)\n",
    "    input_shape = (img_rows, img_cols, 1)"
   ]
  },
  {
   "cell_type": "code",
   "execution_count": 4,
   "metadata": {},
   "outputs": [],
   "source": [
    "for ind, val in enumerate(y_train):\n",
    "    y_train[ind] = val % 2\n",
    "    \n",
    "for ind, val in enumerate(y_test):\n",
    "    y_test[ind] = val % 2\n"
   ]
  },
  {
   "cell_type": "code",
   "execution_count": 5,
   "metadata": {},
   "outputs": [
    {
     "name": "stdout",
     "output_type": "stream",
     "text": [
      "x_train shape: (60000, 28, 28, 1)\n",
      "60000 train samples\n",
      "10000 test samples\n"
     ]
    }
   ],
   "source": [
    "x_train = x_train.astype('float32')\n",
    "x_test = x_test.astype('float32')\n",
    "x_train /= 255\n",
    "x_test /= 255\n",
    "print('x_train shape:', x_train.shape)\n",
    "print(x_train.shape[0], 'train samples')\n",
    "print(x_test.shape[0], 'test samples')"
   ]
  },
  {
   "cell_type": "code",
   "execution_count": 6,
   "metadata": {},
   "outputs": [],
   "source": [
    "# convert class vectors to binary class matrices\n",
    "y_train = keras.utils.to_categorical(y_train, num_classes)\n",
    "y_test = keras.utils.to_categorical(y_test, num_classes)"
   ]
  },
  {
   "cell_type": "code",
   "execution_count": 7,
   "metadata": {},
   "outputs": [],
   "source": [
    "model = Sequential()\n",
    "model.add(Conv2D(32, kernel_size=(3, 3),\n",
    "                 activation='relu',\n",
    "                 input_shape=input_shape))\n",
    "model.add(Conv2D(64, (3, 3), activation='relu'))\n",
    "model.add(MaxPooling2D(pool_size=(2, 2)))\n",
    "model.add(Dropout(0.25))\n",
    "model.add(Flatten())\n",
    "model.add(Dense(128, activation='relu'))\n",
    "model.add(Dropout(0.5))\n",
    "model.add(Dense(num_classes, activation='softmax'))"
   ]
  },
  {
   "cell_type": "code",
   "execution_count": 8,
   "metadata": {},
   "outputs": [
    {
     "name": "stdout",
     "output_type": "stream",
     "text": [
      "Train on 60000 samples, validate on 10000 samples\n",
      "Epoch 1/12\n",
      "60000/60000 [==============================] - 104s 2ms/step - loss: 0.1356 - acc: 0.9469 - val_loss: 0.0368 - val_acc: 0.9870\n",
      "Epoch 2/12\n",
      "60000/60000 [==============================] - 93s 2ms/step - loss: 0.0489 - acc: 0.9838 - val_loss: 0.0359 - val_acc: 0.9880\n",
      "Epoch 3/12\n",
      "60000/60000 [==============================] - 94s 2ms/step - loss: 0.0353 - acc: 0.9882 - val_loss: 0.0222 - val_acc: 0.9927\n",
      "Epoch 4/12\n",
      "60000/60000 [==============================] - 93s 2ms/step - loss: 0.0292 - acc: 0.9901 - val_loss: 0.0212 - val_acc: 0.9924\n",
      "Epoch 5/12\n",
      "60000/60000 [==============================] - 93s 2ms/step - loss: 0.0232 - acc: 0.9924 - val_loss: 0.0310 - val_acc: 0.9894\n",
      "Epoch 6/12\n",
      "60000/60000 [==============================] - 93s 2ms/step - loss: 0.0202 - acc: 0.9932 - val_loss: 0.0172 - val_acc: 0.9951\n",
      "Epoch 7/12\n",
      "60000/60000 [==============================] - 92s 2ms/step - loss: 0.0186 - acc: 0.9941 - val_loss: 0.0162 - val_acc: 0.9951\n",
      "Epoch 8/12\n",
      "60000/60000 [==============================] - 91s 2ms/step - loss: 0.0163 - acc: 0.9943 - val_loss: 0.0164 - val_acc: 0.9951\n",
      "Epoch 9/12\n",
      "60000/60000 [==============================] - 91s 2ms/step - loss: 0.0155 - acc: 0.9949 - val_loss: 0.0164 - val_acc: 0.9949\n",
      "Epoch 10/12\n",
      "60000/60000 [==============================] - 91s 2ms/step - loss: 0.0142 - acc: 0.9953 - val_loss: 0.0159 - val_acc: 0.9956\n",
      "Epoch 11/12\n",
      "60000/60000 [==============================] - 91s 2ms/step - loss: 0.0128 - acc: 0.9959 - val_loss: 0.0154 - val_acc: 0.9951\n",
      "Epoch 12/12\n",
      "60000/60000 [==============================] - 91s 2ms/step - loss: 0.0110 - acc: 0.9965 - val_loss: 0.0163 - val_acc: 0.9952\n",
      "Test loss: 0.016274264292936505\n",
      "Test accuracy: 0.9952\n"
     ]
    }
   ],
   "source": [
    "model.compile(loss=keras.losses.categorical_crossentropy,\n",
    "              optimizer=keras.optimizers.Adadelta(),\n",
    "              metrics=['accuracy'])\n",
    "\n",
    "model.fit(x_train, y_train,\n",
    "          batch_size=batch_size,\n",
    "          epochs=epochs,\n",
    "          verbose=1,\n",
    "          validation_data=(x_test, y_test))\n",
    "score = model.evaluate(x_test, y_test, verbose=0)\n",
    "print('Test loss:', score[0])\n",
    "print('Test accuracy:', score[1])"
   ]
  },
  {
   "cell_type": "markdown",
   "metadata": {},
   "source": [
    "# Задание"
   ]
  },
  {
   "cell_type": "markdown",
   "metadata": {},
   "source": [
    "Модифицировать пример так, чтобы сеть предсказывала чётные и нечётный цифры"
   ]
  },
  {
   "cell_type": "code",
   "execution_count": null,
   "metadata": {},
   "outputs": [],
   "source": []
  }
 ],
 "metadata": {
  "kernelspec": {
   "display_name": "Python 3",
   "language": "python",
   "name": "python3"
  },
  "language_info": {
   "codemirror_mode": {
    "name": "ipython",
    "version": 3
   },
   "file_extension": ".py",
   "mimetype": "text/x-python",
   "name": "python",
   "nbconvert_exporter": "python",
   "pygments_lexer": "ipython3",
   "version": "3.4.3"
  },
  "toc": {
   "colors": {
    "hover_highlight": "#DAA520",
    "navigate_num": "#000000",
    "navigate_text": "#333333",
    "running_highlight": "#FF0000",
    "selected_highlight": "#FFD700",
    "sidebar_border": "#EEEEEE",
    "wrapper_background": "#FFFFFF"
   },
   "moveMenuLeft": true,
   "nav_menu": {
    "height": "12px",
    "width": "252px"
   },
   "navigate_menu": true,
   "number_sections": true,
   "sideBar": true,
   "threshold": 4,
   "toc_cell": false,
   "toc_section_display": "block",
   "toc_window_display": false,
   "widenNotebook": false
  }
 },
 "nbformat": 4,
 "nbformat_minor": 2
}
