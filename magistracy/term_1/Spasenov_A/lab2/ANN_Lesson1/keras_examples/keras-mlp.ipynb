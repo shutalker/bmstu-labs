{
 "cells": [
  {
   "cell_type": "code",
   "execution_count": 1,
   "metadata": {},
   "outputs": [
    {
     "name": "stderr",
     "output_type": "stream",
     "text": [
      "Using TensorFlow backend.\n"
     ]
    }
   ],
   "source": [
    "import keras\n",
    "from keras.datasets import mnist\n",
    "from keras.models import Sequential\n",
    "from keras.layers import Dense, Dropout\n",
    "from keras.optimizers import RMSprop\n",
    "\n",
    "batch_size = 128\n",
    "num_classes = 10\n",
    "epochs = 20"
   ]
  },
  {
   "cell_type": "code",
   "execution_count": 2,
   "metadata": {},
   "outputs": [
    {
     "name": "stdout",
     "output_type": "stream",
     "text": [
      "60000 train samples\n",
      "10000 test samples\n"
     ]
    }
   ],
   "source": [
    "(x_train, y_train), (x_test, y_test) = mnist.load_data()\n",
    "\n",
    "x_train = x_train.reshape(60000, 784)\n",
    "x_test = x_test.reshape(10000, 784)\n",
    "x_train = x_train.astype('float32')\n",
    "x_test = x_test.astype('float32')\n",
    "x_train /= 255\n",
    "x_test /= 255\n",
    "print(x_train.shape[0], 'train samples')\n",
    "print(x_test.shape[0], 'test samples')"
   ]
  },
  {
   "cell_type": "code",
   "execution_count": 3,
   "metadata": {},
   "outputs": [],
   "source": [
    "# convert class vectors to binary class matrices\n",
    "y_train = keras.utils.to_categorical(y_train, num_classes)\n",
    "y_test = keras.utils.to_categorical(y_test, num_classes)"
   ]
  },
  {
   "cell_type": "code",
   "execution_count": 4,
   "metadata": {},
   "outputs": [],
   "source": [
    "model = Sequential()\n",
    "model.add(Dense(512, activation='relu', input_shape=(784,)))\n",
    "model.add(Dropout(0.2))\n",
    "model.add(Dense(512, activation='relu'))\n",
    "model.add(Dropout(0.2))\n",
    "model.add(Dense(num_classes, activation='softmax'))"
   ]
  },
  {
   "cell_type": "code",
   "execution_count": 5,
   "metadata": {},
   "outputs": [
    {
     "name": "stdout",
     "output_type": "stream",
     "text": [
      "_________________________________________________________________\n",
      "Layer (type)                 Output Shape              Param #   \n",
      "=================================================================\n",
      "dense_1 (Dense)              (None, 512)               401920    \n",
      "_________________________________________________________________\n",
      "dropout_1 (Dropout)          (None, 512)               0         \n",
      "_________________________________________________________________\n",
      "dense_2 (Dense)              (None, 512)               262656    \n",
      "_________________________________________________________________\n",
      "dropout_2 (Dropout)          (None, 512)               0         \n",
      "_________________________________________________________________\n",
      "dense_3 (Dense)              (None, 10)                5130      \n",
      "=================================================================\n",
      "Total params: 669,706\n",
      "Trainable params: 669,706\n",
      "Non-trainable params: 0\n",
      "_________________________________________________________________\n"
     ]
    }
   ],
   "source": [
    "model.summary()\n",
    "\n",
    "model.compile(loss='categorical_crossentropy',\n",
    "              optimizer=RMSprop(),\n",
    "              metrics=['accuracy'])"
   ]
  },
  {
   "cell_type": "code",
   "execution_count": 6,
   "metadata": {},
   "outputs": [
    {
     "name": "stdout",
     "output_type": "stream",
     "text": [
      "Train on 60000 samples, validate on 10000 samples\n",
      "Epoch 1/20\n",
      "60000/60000 [==============================] - 7s 114us/step - loss: 0.2427 - acc: 0.9244 - val_loss: 0.1200 - val_acc: 0.9620\n",
      "Epoch 2/20\n",
      "60000/60000 [==============================] - 6s 106us/step - loss: 0.1012 - acc: 0.9698 - val_loss: 0.0792 - val_acc: 0.9753\n",
      "Epoch 3/20\n",
      "60000/60000 [==============================] - 6s 107us/step - loss: 0.0752 - acc: 0.9769 - val_loss: 0.0806 - val_acc: 0.9747\n",
      "Epoch 4/20\n",
      "60000/60000 [==============================] - 6s 107us/step - loss: 0.0598 - acc: 0.9819 - val_loss: 0.0743 - val_acc: 0.9800\n",
      "Epoch 5/20\n",
      "60000/60000 [==============================] - 6s 107us/step - loss: 0.0518 - acc: 0.9848 - val_loss: 0.0794 - val_acc: 0.9786\n",
      "Epoch 6/20\n",
      "60000/60000 [==============================] - 6s 108us/step - loss: 0.0423 - acc: 0.9869 - val_loss: 0.0731 - val_acc: 0.9824\n",
      "Epoch 7/20\n",
      "60000/60000 [==============================] - 7s 111us/step - loss: 0.0380 - acc: 0.9889 - val_loss: 0.0709 - val_acc: 0.9820\n",
      "Epoch 8/20\n",
      "60000/60000 [==============================] - 7s 112us/step - loss: 0.0344 - acc: 0.9901 - val_loss: 0.0784 - val_acc: 0.9818\n",
      "Epoch 9/20\n",
      "60000/60000 [==============================] - 7s 113us/step - loss: 0.0307 - acc: 0.9906 - val_loss: 0.0757 - val_acc: 0.9849\n",
      "Epoch 10/20\n",
      "60000/60000 [==============================] - 7s 113us/step - loss: 0.0285 - acc: 0.9922 - val_loss: 0.0852 - val_acc: 0.9817\n",
      "Epoch 11/20\n",
      "60000/60000 [==============================] - 7s 113us/step - loss: 0.0258 - acc: 0.9924 - val_loss: 0.0873 - val_acc: 0.9829\n",
      "Epoch 12/20\n",
      "60000/60000 [==============================] - 7s 112us/step - loss: 0.0249 - acc: 0.9928 - val_loss: 0.0924 - val_acc: 0.9836\n",
      "Epoch 13/20\n",
      "60000/60000 [==============================] - 7s 110us/step - loss: 0.0213 - acc: 0.9937 - val_loss: 0.0966 - val_acc: 0.9846\n",
      "Epoch 14/20\n",
      "60000/60000 [==============================] - 7s 112us/step - loss: 0.0232 - acc: 0.9935 - val_loss: 0.0968 - val_acc: 0.9825\n",
      "Epoch 15/20\n",
      "60000/60000 [==============================] - 7s 112us/step - loss: 0.0211 - acc: 0.9942 - val_loss: 0.0864 - val_acc: 0.9847\n",
      "Epoch 16/20\n",
      "60000/60000 [==============================] - 7s 112us/step - loss: 0.0202 - acc: 0.9947 - val_loss: 0.0967 - val_acc: 0.9840\n",
      "Epoch 17/20\n",
      "60000/60000 [==============================] - 7s 111us/step - loss: 0.0196 - acc: 0.9945 - val_loss: 0.1049 - val_acc: 0.9839\n",
      "Epoch 18/20\n",
      "60000/60000 [==============================] - 7s 112us/step - loss: 0.0181 - acc: 0.9950 - val_loss: 0.1068 - val_acc: 0.9847\n",
      "Epoch 19/20\n",
      "60000/60000 [==============================] - 7s 112us/step - loss: 0.0179 - acc: 0.9954 - val_loss: 0.1082 - val_acc: 0.9826\n",
      "Epoch 20/20\n",
      "60000/60000 [==============================] - 7s 113us/step - loss: 0.0172 - acc: 0.9954 - val_loss: 0.1160 - val_acc: 0.9825\n",
      "Test loss: 0.11601645198317528\n",
      "Test accuracy: 0.9825\n"
     ]
    }
   ],
   "source": [
    "history = model.fit(x_train, y_train,\n",
    "                    batch_size=batch_size,\n",
    "                    epochs=epochs,\n",
    "                    verbose=1,\n",
    "                    validation_data=(x_test, y_test))\n",
    "score = model.evaluate(x_test, y_test, verbose=0)\n",
    "print('Test loss:', score[0])\n",
    "print('Test accuracy:', score[1])"
   ]
  },
  {
   "cell_type": "code",
   "execution_count": null,
   "metadata": {},
   "outputs": [],
   "source": []
  }
 ],
 "metadata": {
  "kernelspec": {
   "display_name": "Python 3",
   "language": "python",
   "name": "python3"
  },
  "language_info": {
   "codemirror_mode": {
    "name": "ipython",
    "version": 3
   },
   "file_extension": ".py",
   "mimetype": "text/x-python",
   "name": "python",
   "nbconvert_exporter": "python",
   "pygments_lexer": "ipython3",
   "version": "3.4.3"
  },
  "toc": {
   "colors": {
    "hover_highlight": "#DAA520",
    "navigate_num": "#000000",
    "navigate_text": "#333333",
    "running_highlight": "#FF0000",
    "selected_highlight": "#FFD700",
    "sidebar_border": "#EEEEEE",
    "wrapper_background": "#FFFFFF"
   },
   "moveMenuLeft": true,
   "nav_menu": {
    "height": "12px",
    "width": "252px"
   },
   "navigate_menu": true,
   "number_sections": true,
   "sideBar": true,
   "threshold": 4,
   "toc_cell": false,
   "toc_section_display": "block",
   "toc_window_display": false,
   "widenNotebook": false
  }
 },
 "nbformat": 4,
 "nbformat_minor": 2
}
